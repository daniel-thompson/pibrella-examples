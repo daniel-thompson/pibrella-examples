{
 "metadata": {
  "name": "",
  "signature": "sha256:f02618b592ec35ffd1c0513ee52099899c2b91397b681313caa8de5ffba05faf"
 },
 "nbformat": 3,
 "nbformat_minor": 0,
 "worksheets": [
  {
   "cells": [
    {
     "cell_type": "heading",
     "level": 1,
     "metadata": {},
     "source": [
      "Quick reference"
     ]
    },
    {
     "cell_type": "markdown",
     "metadata": {},
     "source": [
      "Always begin by importing (at least) the pibrella libary:"
     ]
    },
    {
     "cell_type": "code",
     "collapsed": false,
     "input": [
      "import pibrella"
     ],
     "language": "python",
     "metadata": {},
     "outputs": []
    },
    {
     "cell_type": "markdown",
     "metadata": {},
     "source": [
      "All of Pibrella's inputs, outputs and lights are stored in collectons. You can reference a pin by name or by number in any of three ways:"
     ]
    },
    {
     "cell_type": "code",
     "collapsed": false,
     "input": [
      "pibrella.light[0]"
     ],
     "language": "python",
     "metadata": {},
     "outputs": []
    },
    {
     "cell_type": "code",
     "collapsed": false,
     "input": [
      "pibrella.light['red']"
     ],
     "language": "python",
     "metadata": {},
     "outputs": []
    },
    {
     "cell_type": "code",
     "collapsed": false,
     "input": [
      "pibrella.light.red"
     ],
     "language": "python",
     "metadata": {},
     "outputs": []
    },
    {
     "cell_type": "markdown",
     "metadata": {},
     "source": [
      "You can also perform actions on every object in a collection at once:"
     ]
    },
    {
     "cell_type": "code",
     "collapsed": false,
     "input": [
      "pibrella.light"
     ],
     "language": "python",
     "metadata": {},
     "outputs": []
    },
    {
     "cell_type": "markdown",
     "metadata": {},
     "source": [
      "There are lots of different collections and objects can appears in more than one collection:\n",
      "\n",
      "* `pibrella.pin` contains an object for every \"pin\" in the pibrella: a, b, c, d, button, buzzer, red, yellow, green, e, f, g, h.\n",
      "* `pibrella.input` contains an object for every input pin: a, b, c, d\n",
      "* `pibrella.output` contains an object for every output pin: e, f, g, h\n",
      "* `pibrella.light` contains an object for every light: red, yellow, green"
     ]
    },
    {
     "cell_type": "markdown",
     "metadata": {},
     "source": [
      "Examples:"
     ]
    },
    {
     "cell_type": "code",
     "collapsed": false,
     "input": [
      "pibrella.pin.read()"
     ],
     "language": "python",
     "metadata": {},
     "outputs": []
    },
    {
     "cell_type": "code",
     "collapsed": false,
     "input": [
      "pibrella.output.blink()"
     ],
     "language": "python",
     "metadata": {},
     "outputs": []
    },
    {
     "cell_type": "code",
     "collapsed": true,
     "input": [
      "pibrella.output.off()"
     ],
     "language": "python",
     "metadata": {},
     "outputs": []
    },
    {
     "cell_type": "heading",
     "level": 1,
     "metadata": {},
     "source": [
      "Outputs and lights"
     ]
    },
    {
     "cell_type": "markdown",
     "metadata": {},
     "source": [
      "Outputs and lights accept exactly the same set of commands:\n",
      "\n",
      "* `.on()` turns the output or light on\n",
      "* `.off()` turns the output or light off\n",
      "* `.toggle()` changes the output from on to off or from off to on\n",
      "* `.write(state)` sets the output from a variable (1 is on and 0 is off)\n",
      "* `.pulse()` causes the output to fade on and off. Variants include: `.pulse(fade_time)` and `.pulse(fade_on_time, fade_off_time, time_on, time_off)`.\n",
      "* `.blink()` dauses the output to turn on and off without fading. Variants include: `.blink(time)` and `.blink(time_on, time_off)`\n",
      "* `.read()` gets the current state of the pin"
     ]
    },
    {
     "cell_type": "markdown",
     "metadata": {},
     "source": [
      "Examples:"
     ]
    },
    {
     "cell_type": "code",
     "collapsed": false,
     "input": [
      "pibrella.output.pulse(2, 0.25, 1, 0.25)"
     ],
     "language": "python",
     "metadata": {},
     "outputs": []
    },
    {
     "cell_type": "code",
     "collapsed": false,
     "input": [
      "pibrella.light.red.blink(0.05)"
     ],
     "language": "python",
     "metadata": {},
     "outputs": []
    },
    {
     "cell_type": "code",
     "collapsed": false,
     "input": [
      "pibrella.output.off(); pibrella.light.off()"
     ],
     "language": "python",
     "metadata": {},
     "outputs": []
    },
    {
     "cell_type": "heading",
     "level": 1,
     "metadata": {},
     "source": [
      "Inputs"
     ]
    },
    {
     "cell_type": "markdown",
     "metadata": {},
     "source": [
      "The inputs include the input pins: a, b, c and d together with the button. Commands include:\n",
      "\n",
      "* `.read()` gets the current state of the input\n",
      "* `.changed(handler)` allows a change of state handler to be installed"
     ]
    },
    {
     "cell_type": "markdown",
     "metadata": {},
     "source": [
      "Examples:"
     ]
    },
    {
     "cell_type": "code",
     "collapsed": false,
     "input": [
      "pibrella.input.read()"
     ],
     "language": "python",
     "metadata": {},
     "outputs": []
    },
    {
     "cell_type": "code",
     "collapsed": false,
     "input": [
      "def button_pressed(pin):\n",
      "    print pin.read()\n",
      "pibrella.button.changed(button_pressed)"
     ],
     "language": "python",
     "metadata": {},
     "outputs": []
    },
    {
     "cell_type": "heading",
     "level": 1,
     "metadata": {},
     "source": [
      "Buzzer"
     ]
    },
    {
     "cell_type": "markdown",
     "metadata": {},
     "source": [
      "The buzzer supports a wide range of commands including:\n",
      "\n",
      "* `.buzz(frequency)` buzzes at a fixed frequency (if you are musical try 440Hz, this is the \"A\" note you tune to)\n",
      "* `.note(number)` buzzes as musical pitches. The number you must give is the number of semitones above or below \"A\"\n",
      "* `.off()` stops the buzzer from making any noise\n",
      "* `.success()` plays a happy sound\n",
      "* `.fail()` plays a sad sound\n",
      "* `.melody((notes), note_length)` plays the notes in a loop. To avoid looping try `.melody((notes), note_length, False)` "
     ]
    },
    {
     "cell_type": "markdown",
     "metadata": {},
     "source": [
      "Examples:"
     ]
    },
    {
     "cell_type": "code",
     "collapsed": false,
     "input": [
      "pibrella.buzzer.melody((0, 2, 4, 5, 7, 9, 11, 12), 0.25)"
     ],
     "language": "python",
     "metadata": {},
     "outputs": []
    },
    {
     "cell_type": "code",
     "collapsed": false,
     "input": [
      "pibrella.buzzer.off()"
     ],
     "language": "python",
     "metadata": {},
     "outputs": []
    },
    {
     "cell_type": "heading",
     "level": 1,
     "metadata": {},
     "source": [
      "Other calls"
     ]
    },
    {
     "cell_type": "markdown",
     "metadata": {},
     "source": [
      "Finally there are some commands that can be run without an object. Instead these command are used directly on the imported library.\n",
      "\n",
      "* `pibrella.pause()` prevents you script from exiting (allowing you to see any pulsing, blinking or buzzing)\n",
      "* `pibrella.loop(handler)` allows you to run the handler function over and over again. Use this to run complicated sequences of commands \"in the background\" whilst you continue to work at the python prompt."
     ]
    }
   ],
   "metadata": {}
  }
 ]
}