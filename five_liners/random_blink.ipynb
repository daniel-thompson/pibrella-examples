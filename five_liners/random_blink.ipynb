{
 "metadata": {
  "name": "",
  "signature": "sha256:6b47bdc1ac193942d082a6683fa6a44f5c87a3a0d8a7d183776805415a48d12f"
 },
 "nbformat": 3,
 "nbformat_minor": 0,
 "worksheets": [
  {
   "cells": [
    {
     "cell_type": "heading",
     "level": 1,
     "metadata": {},
     "source": [
      "Random blink"
     ]
    },
    {
     "cell_type": "markdown",
     "metadata": {},
     "source": [
      "This program uses three different libraries which we must \"import\" before we can use them:"
     ]
    },
    {
     "cell_type": "code",
     "collapsed": false,
     "input": [
      "import pibrella, random, time"
     ],
     "language": "python",
     "metadata": {},
     "outputs": []
    },
    {
     "cell_type": "markdown",
     "metadata": {},
     "source": [
      "Next we have the program itself:"
     ]
    },
    {
     "cell_type": "code",
     "collapsed": false,
     "input": [
      "mychoices = ( pibrella.light.red, pibrella.light.yellow, pibrella.light.green )\n",
      "for i in range(50):\n",
      "    light = random.choice(mychoices)\n",
      "    light.toggle()\n",
      "    time.sleep((random.random() / 2) + 0.1)"
     ],
     "language": "python",
     "metadata": {},
     "outputs": []
    },
    {
     "cell_type": "heading",
     "level": 1,
     "metadata": {},
     "source": [
      "Breaking it apart"
     ]
    },
    {
     "cell_type": "heading",
     "level": 2,
     "metadata": {},
     "source": [
      "Line 1"
     ]
    },
    {
     "cell_type": "code",
     "collapsed": false,
     "input": [
      "mychoices = ( pibrella.light.red, pibrella.light.yellow, pibrella.light.green )"
     ],
     "language": "python",
     "metadata": {},
     "outputs": []
    },
    {
     "cell_type": "markdown",
     "metadata": {},
     "source": [
      "`mychoices` is a \"tuple\" (a group of objects) containing three things, the red light object, the yellow light object and the green light object.\n",
      "\n",
      "Commands to try to help you understand `mychoices`:"
     ]
    },
    {
     "cell_type": "code",
     "collapsed": false,
     "input": [
      "mychoices"
     ],
     "language": "python",
     "metadata": {},
     "outputs": []
    },
    {
     "cell_type": "code",
     "collapsed": false,
     "input": [
      "mychoices[0].on()"
     ],
     "language": "python",
     "metadata": {},
     "outputs": []
    },
    {
     "cell_type": "code",
     "collapsed": false,
     "input": [
      "mychoices[0].off()"
     ],
     "language": "python",
     "metadata": {},
     "outputs": []
    },
    {
     "cell_type": "code",
     "collapsed": false,
     "input": [
      "mychoices[2].toggle()"
     ],
     "language": "python",
     "metadata": {},
     "outputs": []
    },
    {
     "cell_type": "heading",
     "level": 2,
     "metadata": {},
     "source": [
      "Line 2"
     ]
    },
    {
     "cell_type": "code",
     "collapsed": false,
     "input": [
      "for i in range(50):\n",
      "    print \"An example indented line\""
     ],
     "language": "python",
     "metadata": {},
     "outputs": []
    },
    {
     "cell_type": "markdown",
     "metadata": {},
     "source": [
      "Makes the indented command or commands run 50 times. This is called a loop. The first line is called the loop condition and the indented lines are called the loop body.\n",
      "\n",
      "Commands to try:"
     ]
    },
    {
     "cell_type": "code",
     "collapsed": false,
     "input": [
      "range(50)"
     ],
     "language": "python",
     "metadata": {},
     "outputs": []
    },
    {
     "cell_type": "code",
     "collapsed": false,
     "input": [
      "range(5)"
     ],
     "language": "python",
     "metadata": {},
     "outputs": []
    },
    {
     "cell_type": "code",
     "collapsed": false,
     "input": [
      "for i in range(5):\n",
      "    print i"
     ],
     "language": "python",
     "metadata": {},
     "outputs": []
    },
    {
     "cell_type": "heading",
     "level": 2,
     "metadata": {},
     "source": [
      "Line 3"
     ]
    },
    {
     "cell_type": "code",
     "collapsed": false,
     "input": [
      "light = random.choice(mychoices)"
     ],
     "language": "python",
     "metadata": {},
     "outputs": []
    },
    {
     "cell_type": "markdown",
     "metadata": {},
     "source": [
      "Selects a random value from mychoices and stores it in a \"variable\" called light.\n",
      "\n",
      "Commands to try (remember to repeat these, randomness means that that they don't do the same thing every time):"
     ]
    },
    {
     "cell_type": "code",
     "collapsed": false,
     "input": [
      "random.choice(mychoices)"
     ],
     "language": "python",
     "metadata": {},
     "outputs": []
    },
    {
     "cell_type": "code",
     "collapsed": false,
     "input": [
      "random.choice(mychoices).toggle()"
     ],
     "language": "python",
     "metadata": {},
     "outputs": []
    },
    {
     "cell_type": "heading",
     "level": 2,
     "metadata": {},
     "source": [
      "Line 4"
     ]
    },
    {
     "cell_type": "code",
     "collapsed": false,
     "input": [
      "light.toggle()"
     ],
     "language": "python",
     "metadata": {},
     "outputs": []
    },
    {
     "cell_type": "markdown",
     "metadata": {},
     "source": [
      "Makes the object held in the variable called light toggle its state (on becomes off and off becomes on).\n",
      "\n",
      "Commands to try:"
     ]
    },
    {
     "cell_type": "code",
     "collapsed": false,
     "input": [
      "light = mychoices[0]"
     ],
     "language": "python",
     "metadata": {},
     "outputs": []
    },
    {
     "cell_type": "code",
     "collapsed": false,
     "input": [
      "light.toggle()"
     ],
     "language": "python",
     "metadata": {},
     "outputs": []
    },
    {
     "cell_type": "code",
     "collapsed": false,
     "input": [
      "light.on()"
     ],
     "language": "python",
     "metadata": {},
     "outputs": []
    },
    {
     "cell_type": "code",
     "collapsed": false,
     "input": [
      "light.off()"
     ],
     "language": "python",
     "metadata": {},
     "outputs": []
    },
    {
     "cell_type": "code",
     "collapsed": false,
     "input": [
      "light = pibrella.light.green"
     ],
     "language": "python",
     "metadata": {},
     "outputs": []
    },
    {
     "cell_type": "code",
     "collapsed": false,
     "input": [
      "light.toggle()"
     ],
     "language": "python",
     "metadata": {},
     "outputs": []
    },
    {
     "cell_type": "heading",
     "level": 2,
     "metadata": {},
     "source": [
      "Line 5"
     ]
    },
    {
     "cell_type": "code",
     "collapsed": false,
     "input": [
      "time.sleep((random.random() / 2) + 0.1)"
     ],
     "language": "python",
     "metadata": {},
     "outputs": []
    },
    {
     "cell_type": "markdown",
     "metadata": {},
     "source": [
      "Makes the program do nothing for a short but randomly selected period of time."
     ]
    },
    {
     "cell_type": "markdown",
     "metadata": {},
     "source": [
      "Commands to try (repeat these, random things don't go the same thing every time):"
     ]
    },
    {
     "cell_type": "code",
     "collapsed": false,
     "input": [
      "random.random()"
     ],
     "language": "python",
     "metadata": {},
     "outputs": []
    },
    {
     "cell_type": "code",
     "collapsed": false,
     "input": [
      "random.random() / 2"
     ],
     "language": "python",
     "metadata": {},
     "outputs": []
    },
    {
     "cell_type": "code",
     "collapsed": false,
     "input": [
      "(random.random() / 2) + 0.1"
     ],
     "language": "python",
     "metadata": {},
     "outputs": []
    },
    {
     "cell_type": "code",
     "collapsed": false,
     "input": [
      "(random.random() / 10) + 0.9"
     ],
     "language": "python",
     "metadata": {},
     "outputs": []
    },
    {
     "cell_type": "code",
     "collapsed": false,
     "input": [
      "time.sleep(5)"
     ],
     "language": "python",
     "metadata": {},
     "outputs": []
    },
    {
     "cell_type": "heading",
     "level": 1,
     "metadata": {},
     "source": [
      "Challenges"
     ]
    },
    {
     "cell_type": "markdown",
     "metadata": {},
     "source": [
      "1. Make the random blinking go faster (change both numbers).\n",
      "\n",
      "2. Make the random blinking happen as fast as possible.\n",
      "\n",
      "3. Make the random blinking happen at the speed you thing is nicest!\n",
      "\n",
      "4. Make the random blinking run forever.\n",
      "\n",
      "   As a hint find out what this command does (and when you find out, press\n",
      "   Control and C to stop the program):\n",
      "\n",
      "       while True:\n",
      "           print(\"Why not try moving the scroll bar?\")\n",
      "\n",
      "5. Make four more of the lights on the pibrella join in the blinking.\n",
      "\n",
      "   Hint:\n",
      "\n",
      "       pibrella.output.e.toggle()\n",
      "       pibrella.output.h.toggle()"
     ]
    }
   ],
   "metadata": {}
  }
 ]
}